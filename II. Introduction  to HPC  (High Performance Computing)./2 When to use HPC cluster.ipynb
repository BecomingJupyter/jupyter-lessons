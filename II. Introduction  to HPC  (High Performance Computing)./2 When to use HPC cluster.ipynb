{
 "cells": [
  {
   "cell_type": "markdown",
   "id": "ce08d8f6",
   "metadata": {},
   "source": [
    "## Lesson 2: When to use HPC cluster\n",
    "\n",
    "\n",
    "Research problems that use computing can sometimes outgrow the desktop or laptop computer where they started.\n",
    "\n",
    "There might not be enough memory, not enough disk space or it may take too long to run computations.\n",
    "\n",
    "These days, a typical desktop or laptop computer has up to 16GB of memory, a small number of CPU cores and several TB of disk space. When you run your computations on a computer, the program and data get loaded from the disk to the memory and the program's commands are executed on the CPU cores. Results of the computations are usually written back to the disk. If too much data needs to be loaded to memory, the computer will become unresponsive and may even crash.\n",
    "\n",
    "Typical cases of when it may be beneficial to request access to an HPC cluster:\n",
    "\n",
    "computations need much more memory than what is available on your computer\n",
    "the same program needs to be run multiple times (usually on different input data)\n",
    "the program that you use takes too long to run, but it can be run faster in parallel (usually using MPI or OpenMP)\n",
    "you need access to a GPU accelerator (your program needs to be written in a way that allows it to use your GPU).\n",
    " \n",
    "\n",
    "One should not expect that any program will automatically run faster on a cluster. In fact a serial program that does not need much memory may run slower on an HPC cluster than on a newer laptop or desktop computer. However, on a cluster one can take advantage of multiple cores by running several instances of a program at once or using a parallel version of the program.\n",
    "\n",
    " \n",
    "\n"
   ]
  }
 ],
 "metadata": {
  "kernelspec": {
   "display_name": "Python 3.10.6 64-bit",
   "language": "python",
   "name": "python3"
  },
  "language_info": {
   "codemirror_mode": {
    "name": "ipython",
    "version": 3
   },
   "file_extension": ".py",
   "mimetype": "text/x-python",
   "name": "python",
   "nbconvert_exporter": "python",
   "pygments_lexer": "ipython3",
   "version": "3.10.6"
  },
  "vscode": {
   "interpreter": {
    "hash": "31f2aee4e71d21fbe5cf8b01ff0e069b9275f58929596ceb00d14d90e3e16cd6"
   }
  },
  "widgets": {
   "application/vnd.jupyter.widget-state+json": {
    "state": {},
    "version_major": 2,
    "version_minor": 0
   }
  }
 },
 "nbformat": 4,
 "nbformat_minor": 5
}
