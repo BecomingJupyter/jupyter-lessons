{
 "cells": [
  {
   "cell_type": "markdown",
   "id": "ce08d8f6",
   "metadata": {},
   "source": [
    "## Lesson 1: What is an HPC cluster\n",
    "\n",
    "What is an HPC cluster\n",
    "\n",
    "An HPC cluster is a collection of many separate servers (computers), called nodes, which are connected via a fast interconnect.\n",
    "\n",
    "There may be different types of nodes for different types of tasks.\n",
    "\n",
    "Each of the HPC clusters listed on this site has\n",
    "\n",
    "a headnode or login node, where users log in\n",
    "a specialized data transfer node\n",
    "regular compute nodes (where majority of computations is run)\n",
    "\"fat\" compute nodes that have at least 1TB of memory\n",
    "GPU nodes (on these nodes computations can be run both on CPU cores and on a Graphical Processing Unit)\n",
    "an Infiniband switch to connect all nodes\n",
    " \n",
    "\n",
    "All cluster nodes have the same components as a laptop or desktop: CPU cores, memory and disk space. The difference between personal computer and a cluster node is in quantity, quality and power of the components.\n",
    "\n",
    " \n",
    "\n",
    "Users login from their computers to the cluster headnode using the ssh program.\n",
    "\n",
    "\n"
   ]
  }
 ],
 "metadata": {
  "kernelspec": {
   "display_name": "Python 3.10.6 64-bit",
   "language": "python",
   "name": "python3"
  },
  "language_info": {
   "codemirror_mode": {
    "name": "ipython",
    "version": 3
   },
   "file_extension": ".py",
   "mimetype": "text/x-python",
   "name": "python",
   "nbconvert_exporter": "python",
   "pygments_lexer": "ipython3",
   "version": "3.10.6"
  },
  "vscode": {
   "interpreter": {
    "hash": "31f2aee4e71d21fbe5cf8b01ff0e069b9275f58929596ceb00d14d90e3e16cd6"
   }
  },
  "widgets": {
   "application/vnd.jupyter.widget-state+json": {
    "state": {},
    "version_major": 2,
    "version_minor": 0
   }
  }
 },
 "nbformat": 4,
 "nbformat_minor": 5
}
