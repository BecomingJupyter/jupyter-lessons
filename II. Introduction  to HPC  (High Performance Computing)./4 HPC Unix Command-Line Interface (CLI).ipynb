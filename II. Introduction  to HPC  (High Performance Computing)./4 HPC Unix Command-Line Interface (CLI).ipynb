{
 "cells": [
  {
   "cell_type": "markdown",
   "id": "ce08d8f6",
   "metadata": {},
   "source": [
    "## Lesson 4: HPC Unix Command-Line Interface (CLI)\n",
    "\n",
    "\n",
    "Unix Command-Line Interface (CLI)\n",
    "As mentioned earlier, HPC clusters usually don't have graphical desktop environments installed, and users communicate with the computer by typing commands.\n",
    "\n",
    "After you ssh to a cluster you will see a prompt similar to the one below:\n",
    "\n",
    "[user@cluster ~]$\n",
    "\n",
    "where instead of user you will see your ISU NetID, and the cluster name will be displayed after @ sign.\n",
    "\n",
    "When you type commands, a special program called the shell interprets these commands and communicates with the Operating System. There are different shell programs. On our clusters we use a bash shell, which is one of the most used shells today.\n",
    "\n",
    "Example commands in this guide are given in double quotes. When typing those commands in the command line (after the prompt similar to the one above), omit the double quotes.\n",
    "\n",
    "You can type Unix commands (e.g. \"date\" or \"ls\"), shell specific commands (e.g. \"history\") or third-party program names (e.g. \"python\" or \"squeue\"). Bash looks for those in the locations listed in the PATH environment variable. You can type \"echo $PATH\" to see those locations. If bash knows/finds the command, it will execute it. Otherwise it will issue a \"command not found\" error message. We will talk more about this in the Environment Modules section.\n",
    "\n",
    "To see previously issued commands type \"history\". To reissue one of the commands, type \"!nnn\", where nnn is the command number. You can also navigate through previously issued commands and display them in the command line by using arrow-up and arrow-down keyboard keys. This way you can avoid re-typing a long command. Typing \"!!\" will reissue the last command.\n",
    "\n",
    "One of the useful bash features is autocomplete. It can be used both for commands and file names. For example, if you type \"hi\" and hit the Tab key, bash will autocomplete the command to \"history\" (unless there is another command in the locations listed in your PATH that also starts with \"hi\", in that case type more letters, e.g. \"his\" and hit Tab)."
   ]
  }
 ],
 "metadata": {
  "kernelspec": {
   "display_name": "Python 3.10.6 64-bit",
   "language": "python",
   "name": "python3"
  },
  "language_info": {
   "codemirror_mode": {
    "name": "ipython",
    "version": 3
   },
   "file_extension": ".py",
   "mimetype": "text/x-python",
   "name": "python",
   "nbconvert_exporter": "python",
   "pygments_lexer": "ipython3",
   "version": "3.10.6"
  },
  "vscode": {
   "interpreter": {
    "hash": "31f2aee4e71d21fbe5cf8b01ff0e069b9275f58929596ceb00d14d90e3e16cd6"
   }
  },
  "widgets": {
   "application/vnd.jupyter.widget-state+json": {
    "state": {},
    "version_major": 2,
    "version_minor": 0
   }
  }
 },
 "nbformat": 4,
 "nbformat_minor": 5
}
