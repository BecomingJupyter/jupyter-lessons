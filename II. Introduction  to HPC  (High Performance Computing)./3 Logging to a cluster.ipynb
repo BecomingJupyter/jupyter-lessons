{
 "cells": [
  {
   "cell_type": "markdown",
   "id": "ce08d8f6",
   "metadata": {},
   "source": [
    "## Lesson 3: Logging to a cluster\n",
    "\n",
    "\n",
    "Logging to a cluster\n",
    "Computers are managed by an Operating System (OS). The HPC cluster nodes usually run some kind of Unix-like OS. The HPC clusters listed on this site run Red Hat Enterprise Linux (RHEL) - a distribution of Linux.\n",
    "\n",
    "While there are multiple Linux desktop environments (DE) that provide Graphical User Interface (GUI) similar to Windows or MacOS, HPC clusters usually do not have such DEs running. Instead users log into clusters using an ssh client program and type Command Line Interface (CLI) commands to tell the computer what to do. The ssh client program is available on Linux, MacOS and MS Windows 10 machines (in PowerShell). For older Microsoft Windows machines, we recommend using PuTTY ssh client."
   ]
  }
 ],
 "metadata": {
  "kernelspec": {
   "display_name": "Python 3.10.6 64-bit",
   "language": "python",
   "name": "python3"
  },
  "language_info": {
   "codemirror_mode": {
    "name": "ipython",
    "version": 3
   },
   "file_extension": ".py",
   "mimetype": "text/x-python",
   "name": "python",
   "nbconvert_exporter": "python",
   "pygments_lexer": "ipython3",
   "version": "3.10.6"
  },
  "vscode": {
   "interpreter": {
    "hash": "31f2aee4e71d21fbe5cf8b01ff0e069b9275f58929596ceb00d14d90e3e16cd6"
   }
  },
  "widgets": {
   "application/vnd.jupyter.widget-state+json": {
    "state": {},
    "version_major": 2,
    "version_minor": 0
   }
  }
 },
 "nbformat": 4,
 "nbformat_minor": 5
}
