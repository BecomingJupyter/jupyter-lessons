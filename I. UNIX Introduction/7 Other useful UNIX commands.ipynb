{
 "cells": [
  {
   "cell_type": "markdown",
   "id": "ce08d8f6",
   "metadata": {},
   "source": [
    "## Lesson 7: Other useful UNIX commands\n",
    "\n",
    "Other useful UNIX commands  \n",
    "quota\n",
    "All students are allocated a certain amount of disk space on the file system for their personal files, usually about 100Mb. If you go over your quota, you are given 7 days to remove excess files.\n",
    "\n",
    "To check your current quota and how much of it you have used, type\n",
    "\n",
    "% quota -v\n",
    "\n",
    "df\n",
    "The df command reports on the space left on the file system. For example, to find out how much space is left on the fileserver, type\n",
    "\n",
    "% df .\n",
    "\n",
    "du\n",
    "The du command outputs the number of kilobyes used by each subdirectory. Useful if you have gone over quota and you want to find out which directory has the most files. In your home-directory, type\n",
    "\n",
    "% du -s *\n",
    "\n",
    "The -s flag will display only a summary (total size) and the * means all files and directories.\n",
    "\n",
    "gzip\n",
    "This reduces the size of a file, thus freeing valuable disk space. For example, type\n",
    "\n",
    "% ls -l science.txt\n",
    "\n",
    "and note the size of the file using ls -l . Then to compress science.txt, type\n",
    "\n",
    "% gzip science.txt\n",
    "\n",
    "This will compress the file and place it in a file called science.txt.gz\n",
    "\n",
    "To see the change in size, type ls -l again.\n",
    "\n",
    "To expand the file, use the gunzip command.\n",
    "\n",
    "% gunzip science.txt.gz\n",
    "\n",
    "zcat\n",
    "zcat will read gzipped files without needing to uncompress them first.\n",
    "\n",
    "% zcat science.txt.gz\n",
    "\n",
    "If the text scrolls too fast for you, pipe the output though less .\n",
    "\n",
    "% zcat science.txt.gz | less\n",
    "\n",
    "file\n",
    "file classifies the named files according to the type of data they contain, for example ascii (text), pictures, compressed data, etc.. To report on all files in your home directory, type\n",
    "\n",
    "% file *\n",
    "\n",
    "diff\n",
    "This command compares the contents of two files and displays the differences. Suppose you have a file called file1 and you edit some part of it and save it as file2. To see the differences type\n",
    "\n",
    "% diff file1 file2\n",
    "\n",
    "Lines beginning with a < denotes file1, while lines beginning with a > denotes file2.\n",
    "\n",
    "find\n",
    "This searches through the directories for files and directories with a given name, date, size, or any other attribute you care to specify. It is a simple command but with many options - you can read the manual by typing man find.\n",
    "\n",
    "To search for all fies with the extention .txt, starting at the current directory (.) and working through all sub-directories, then printing the name of the file to the screen, type\n",
    "\n",
    "% find . -name \"*.txt\" -print\n",
    "\n",
    "To find files over 1Mb in size, and display the result as a long listing, type\n",
    "\n",
    "% find . -size +1M -ls\n",
    "\n",
    "history\n",
    "The C shell keeps an ordered list of all the commands that you have entered. Each command is given a number according to the order it was entered.\n",
    "\n",
    "% history (show command history list)\n",
    "\n",
    "If you are using the C shell, you can use the exclamation character (!) to recall commands easily.\n",
    "\n",
    "% !! (recall last command)\n",
    "\n",
    "% !-3 (recall third most recent command)\n",
    "\n",
    "% !5 (recall 5th command in list)\n",
    "\n",
    "% !grep (recall last command starting with grep)\n",
    "\n",
    "You can increase the size of the history buffer by typing\n",
    "\n",
    "% set history=100"
   ]
  },
  {
   "cell_type": "code",
   "execution_count": null,
   "id": "edbbd3e7",
   "metadata": {},
   "outputs": [],
   "source": [
    "ls list*"
   ]
  }
 ],
 "metadata": {
  "kernelspec": {
   "display_name": "Python 3.10.6 64-bit",
   "language": "python",
   "name": "python3"
  },
  "language_info": {
   "codemirror_mode": {
    "name": "ipython",
    "version": 3
   },
   "file_extension": ".py",
   "mimetype": "text/x-python",
   "name": "python",
   "nbconvert_exporter": "python",
   "pygments_lexer": "ipython3",
   "version": "3.10.6"
  },
  "vscode": {
   "interpreter": {
    "hash": "31f2aee4e71d21fbe5cf8b01ff0e069b9275f58929596ceb00d14d90e3e16cd6"
   }
  },
  "widgets": {
   "application/vnd.jupyter.widget-state+json": {
    "state": {},
    "version_major": 2,
    "version_minor": 0
   }
  }
 },
 "nbformat": 4,
 "nbformat_minor": 5
}
