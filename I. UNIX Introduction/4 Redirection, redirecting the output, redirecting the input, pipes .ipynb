{
 "cells": [
  {
   "cell_type": "markdown",
   "id": "ce08d8f6",
   "metadata": {},
   "source": [
    "## Lesson 4: Redirection, redirecting the Output, redirecting the Input, Pipes \n"
   ]
  },
  {
   "cell_type": "markdown",
   "id": "454e763b",
   "metadata": {},
   "source": [
    "Most processes initiated by UNIX commands write to the standard output (that is, they write to the terminal screen), and many take their input from the standard input (that is, they read it from the keyboard). There is also the standard error, where processes write their error messages, by default, to the terminal screen.\n",
    "\n",
    "We have already seen one use of the cat command to write the contents of a file to the screen.\n",
    "\n",
    "Now type cat without specifing a file to read\n",
    "\n",
    "`cat`\n",
    "\n",
    "Then type a few words on the keyboard and press the [Return] key.\n",
    "\n",
    "Finally hold the [Ctrl] key down and press [d] (written as ^D for short) to end the input.\n",
    "\n",
    "What has happened?\n",
    "\n",
    "If you run the cat command without specifing a file to read, it reads the standard input (the keyboard), and on receiving the 'end of file' (^D), copies it to the standard output (the screen).\n",
    "\n",
    "In UNIX, we can redirect both the input and the output of commands.\n",
    "\n",
    "\n",
    "##  Redirecting the Output  \n",
    "\n",
    "We use the `>` symbol to redirect the output of a command. For example, to create a file called list1 containing a list of words, type  \n",
    "\n"
   ]
  },
  {
   "cell_type": "code",
   "execution_count": null,
   "id": "edbbd3e7",
   "metadata": {},
   "outputs": [],
   "source": [
    "cat > list1"
   ]
  },
  {
   "cell_type": "markdown",
   "id": "454e763b",
   "metadata": {},
   "source": [
    "Then type in the names of some words. Press [Return] after each one.\n",
    "\n",
    "word1\n",
    "\n",
    "word2\n",
    "\n",
    "word3\n",
    "\n",
    "word4\n",
    "\n",
    "^D {this means press [Ctrl] and [d] to stop}\n",
    "\n",
    "What happens is the cat command reads the standard input (the keyboard) and the > redirects the output, which normally goes to the screen, into a file called list1\n",
    "\n",
    "To read the contents of the file, type\n"
   ]
  },
  {
   "cell_type": "code",
   "execution_count": null,
   "id": "edbbd3e7",
   "metadata": {},
   "outputs": [],
   "source": [
    "cat list1"
   ]
  },
  {
   "cell_type": "markdown",
   "id": "454e763b",
   "metadata": {},
   "source": [
    "You can for example redirect output `ls` command to file. "
   ]
  },
  {
   "cell_type": "code",
   "execution_count": null,
   "id": "edbbd3e7",
   "metadata": {},
   "outputs": [],
   "source": [
    "ls > samplefile.txt"
   ]
  },
  {
   "cell_type": "markdown",
   "id": "454e763b",
   "metadata": {},
   "source": [
    "\n",
    "## Appending to a file\n",
    "The form >> appends standard output to a file. So to add more items to the file list1, type"
   ]
  },
  {
   "cell_type": "code",
   "execution_count": null,
   "id": "edbbd3e7",
   "metadata": {},
   "outputs": [],
   "source": [
    "cat >> list1"
   ]
  },
  {
   "cell_type": "markdown",
   "id": "454e763b",
   "metadata": {},
   "source": [
    "Then type in the names of more words:\n",
    "\n",
    "word5\n",
    "\n",
    "word6\n",
    "\n",
    "word7\n",
    "\n",
    "^D (Control D to stop)\n",
    "\n"
   ]
  },
  {
   "cell_type": "markdown",
   "id": "454e763b",
   "metadata": {},
   "source": [
    "We can use the cat command to join (concatenate) files  exapmle_file1 and example_file2 into a new file big_file.\n"
   ]
  },
  {
   "cell_type": "code",
   "execution_count": null,
   "id": "edbbd3e7",
   "metadata": {},
   "outputs": [],
   "source": [
    "cat example_file1 example_file2 > big_file"
   ]
  },
  {
   "cell_type": "markdown",
   "id": "454e763b",
   "metadata": {},
   "source": [
    "## Redirecting the Input \n",
    "\n",
    "We use the < symbol to redirect the input of a command.\n",
    "\n",
    "The command `sort` alphabetically or numerically sorts a list. Type"
   ]
  },
  {
   "cell_type": "code",
   "execution_count": null,
   "id": "edbbd3e7",
   "metadata": {},
   "outputs": [],
   "source": [
    "sort < big_file"
   ]
  },
  {
   "cell_type": "markdown",
   "id": "454e763b",
   "metadata": {},
   "source": [
    "## Pipes\n",
    "\n",
    "To see who is on the system with you, type\n",
    "\n",
    "`% who`\n",
    "\n",
    "One method to get a sorted list of names is to type,\n",
    "\n",
    "`% who > names.txt`\n",
    "`% sort < names.txt`\n",
    "\n",
    "This is a bit slow and you have to remember to remove the temporary file called names when you have finished. What you really want to do is connect the output of the who command directly to the input of the sort command. This is exactly what pipes do. The symbol for a pipe is the vertical bar |\n",
    "\n",
    "For example, typing\n",
    "\n",
    "`% who | sort`\n",
    "\n",
    "will give the same result as above, but quicker and cleaner.\n",
    "\n",
    "To find out how many users are logged on, type\n",
    "\n",
    "`% who | wc -l`"
   ]
  }
 ],
 "metadata": {
  "kernelspec": {
   "display_name": "Python 3.10.6 64-bit",
   "language": "python",
   "name": "python3"
  },
  "language_info": {
   "codemirror_mode": {
    "name": "ipython",
    "version": 3
   },
   "file_extension": ".py",
   "mimetype": "text/x-python",
   "name": "python",
   "nbconvert_exporter": "python",
   "pygments_lexer": "ipython3",
   "version": "3.10.6"
  },
  "vscode": {
   "interpreter": {
    "hash": "31f2aee4e71d21fbe5cf8b01ff0e069b9275f58929596ceb00d14d90e3e16cd6"
   }
  },
  "widgets": {
   "application/vnd.jupyter.widget-state+json": {
    "state": {},
    "version_major": 2,
    "version_minor": 0
   }
  }
 },
 "nbformat": 4,
 "nbformat_minor": 5
}
