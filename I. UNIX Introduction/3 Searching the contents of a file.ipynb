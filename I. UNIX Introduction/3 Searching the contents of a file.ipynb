{
 "cells": [
  {
   "cell_type": "markdown",
   "id": "ce08d8f6",
   "metadata": {},
   "source": [
    "## Lesson 3: Searching the contents of a file"
   ]
  },
  {
   "cell_type": "markdown",
   "id": "454e763b",
   "metadata": {},
   "source": [
    "##  grep ( searches files for specified words or patterns )\n",
    "\n",
    "`grep` is one of many standard UNIX utilities. It searches files for specified words or patterns.\n",
    "\n",
    "It is useful when we need a quick way to find out whether a particular pattern exists or not in the given input.\n",
    "\n",
    "As you can see, grep has printed out each line containg the word science.\n",
    "\n",
    "The grep command is case sensitive; it distinguishes between `Science` and `science`.\n",
    "\n",
    "\n",
    "To search for word Science in science.txt file type:\n"
   ]
  },
  {
   "cell_type": "code",
   "execution_count": null,
   "id": "edbbd3e7",
   "metadata": {},
   "outputs": [],
   "source": [
    "grep Science science.txt"
   ]
  },
  {
   "cell_type": "markdown",
   "id": "454e763b",
   "metadata": {},
   "source": [
    "To ignore upper/lower case distinctions, use the -i option, i.e. type\n",
    "To search for a phrase or pattern, you must enclose it in single quotes (the apostrophe symbol). For example to search for spinning top, type:"
   ]
  },
  {
   "cell_type": "code",
   "execution_count": null,
   "id": "edbbd3e7",
   "metadata": {},
   "outputs": [],
   "source": [
    "grep -i 'Science text' science.txt"
   ]
  },
  {
   "cell_type": "markdown",
   "id": "454e763b",
   "metadata": {},
   "source": [
    "Sometimes, we may want to print the preceding or succeeding line around the matchings. To print the five lines after a match, we can use the flag -A:\n",
    "\n",
    "On the other hand, to print the five lines before a match, we can use the flag -B:\n",
    "\n",
    "The flag -C allows us to print both the five lines before and the five lines after a match:\n",
    "\n"
   ]
  },
  {
   "cell_type": "code",
   "execution_count": null,
   "id": "edbbd3e7",
   "metadata": {},
   "outputs": [],
   "source": [
    "grep -C 5 ERROR sample.txt"
   ]
  },
  {
   "cell_type": "markdown",
   "id": "454e763b",
   "metadata": {},
   "source": [
    "##  sed ( stream editor)\n",
    "\n",
    "The sed command is a stream editor that works on streams of characters.\n",
    "\n",
    "It’s a more powerful tool than grep as it offers more options for text processing purposes,\n",
    "\n",
    "including the substitute command, which sed is most commonly known for.\n",
    "\n",
    "\n",
    "The sed command has the following general syntax:\n",
    "\n",
    "sed [OPTIONS] SCRIPT FILE...\n",
    "\n",
    "The OPTIONS are optional flags that can be applied on sed to modify its behavior. Next, the SCRIPT argument is the sed script that will be executed on every line for the files that are specified by the FILE argument.\n",
    "\n",
    "To find ERROR word ins sample.txt file:\n",
    "\n",
    "\n",
    "sed -n '/ERROR/ p' sample.txt\n",
    "\n",
    "By default, sed will print every line it is scanning to the standard output stream. To disable this automatic printing, we can use the flag -n.\n",
    "\n",
    "Next, it will run the script that comes after the flag -n and look for the regex pattern ERROR on every line in log.txt. \n",
    "\n",
    "If there is a match, sed will print the line to standard output because we’re using the p command in the script.\n",
    "\n",
    "Finally, we pass log.txt as the name of the file we want sed to work on as the final argument.\n"
   ]
  },
  {
   "cell_type": "code",
   "execution_count": null,
   "id": "edbbd3e7",
   "metadata": {},
   "outputs": [],
   "source": [
    "sed -n '/ERROR/ p' sample.txt"
   ]
  },
  {
   "cell_type": "markdown",
   "id": "454e763b",
   "metadata": {},
   "source": [
    "##  awk\n",
    "\n",
    "The awk is a programming language that is comparable to Perl.\n",
    "\n",
    " It not only offers a multitude of built-in functions for string, arithmetic, and time manipulation but also allows the user to define his own functions just like any regular scripting language. \n",
    " \n",
    " Let’s take a look at some examples of how it works.\n",
    "\n",
    " The awk syntax is of the following form:\n",
    "\n",
    "awk [options] script file\n",
    "It will execute the script against every line in the file. Let’s now expand the structure of the script:\n",
    "\n",
    "'(pattern){action}'\n",
    "The pattern is a regex pattern that will be tested against every input line. If a line matches the pattern, awk will then execute the script defined in action on that line. If the pattern condition is absent, the action will be executed on every line.\n",
    "\n",
    "Replicating grep with awk\n",
    "As we did with sed, let’s take a look at how we can emulate grep‘s functionality using awk:\n",
    "\n",
    "awk '/ERROR/{print $0}' sample.txt\n",
    "\n",
    "The code above will find the regex pattern ERROR in the sample.txt file and print the matching line to the standard output.\n"
   ]
  },
  {
   "cell_type": "code",
   "execution_count": null,
   "id": "edbbd3e7",
   "metadata": {},
   "outputs": [],
   "source": [
    "awk '/ERROR/{print $0}' sample.txt"
   ]
  },
  {
   "cell_type": "markdown",
   "id": "454e763b",
   "metadata": {},
   "source": [
    "Processing documents having a rows and columns structure (CSV style) is when awk really shines. \n",
    "\n",
    "For instance, we can easily print the first and second column, and skip the third one of our file, for example log.txt:"
   ]
  },
  {
   "cell_type": "code",
   "execution_count": null,
   "id": "edbbd3e7",
   "metadata": {},
   "outputs": [],
   "source": [
    "awk '{print $1, $2}' log.txt"
   ]
  },
  {
   "cell_type": "markdown",
   "id": "454e763b",
   "metadata": {},
   "source": [
    "By default, awk handles white spaces as a delimiter.\n",
    "\n",
    " If the processing text is using a delimiter that is not white space (a comma, for example), we can specify it with the flag -F:\n",
    "\n"
   ]
  },
  {
   "cell_type": "code",
   "execution_count": null,
   "id": "edbbd3e7",
   "metadata": {},
   "outputs": [],
   "source": [
    "awk -F \",\" '{print $1, $2}' log.txt"
   ]
  },
  {
   "cell_type": "markdown",
   "id": "454e763b",
   "metadata": {},
   "source": [
    "The ability of awk to carry out arithmetic operations makes gather some numerical info about a text file easy.\n",
    "\n",
    "For example, let’s calculate the number of ERROR event occurrences in log.txt:\n",
    "\n",
    "In this script, awk stores the counts of each distinct value Category column in the variable count. Then the script prints the count value at the end.\n",
    "\n"
   ]
  },
  {
   "cell_type": "code",
   "execution_count": null,
   "id": "edbbd3e7",
   "metadata": {},
   "outputs": [],
   "source": [
    "awk '{count[$2]++} END {print count[\"ERROR\"]}' log.txt"
   ]
  }
 ],
 "metadata": {
  "kernelspec": {
   "display_name": "Python 3.10.6 64-bit",
   "language": "python",
   "name": "python3"
  },
  "language_info": {
   "codemirror_mode": {
    "name": "ipython",
    "version": 3
   },
   "file_extension": ".py",
   "mimetype": "text/x-python",
   "name": "python",
   "nbconvert_exporter": "python",
   "pygments_lexer": "ipython3",
   "version": "3.10.6"
  },
  "vscode": {
   "interpreter": {
    "hash": "31f2aee4e71d21fbe5cf8b01ff0e069b9275f58929596ceb00d14d90e3e16cd6"
   }
  },
  "widgets": {
   "application/vnd.jupyter.widget-state+json": {
    "state": {},
    "version_major": 2,
    "version_minor": 0
   }
  }
 },
 "nbformat": 4,
 "nbformat_minor": 5
}
