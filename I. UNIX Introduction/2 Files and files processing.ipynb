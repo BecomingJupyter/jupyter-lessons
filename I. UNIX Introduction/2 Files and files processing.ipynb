{
 "cells": [
  {
   "cell_type": "markdown",
   "id": "ce08d8f6",
   "metadata": {},
   "source": [
    "## Lesson 2: Files and files processing"
   ]
  },
  {
   "cell_type": "markdown",
   "id": "70661946",
   "metadata": {},
   "source": [
    "\n",
    "## cp (copy)\n",
    "`cp` file1 file2 is the command which makes a copy of file1 in the current working directory and calls it file2\n",
    "\n",
    "What we are going to do now, is to take a file stored in an open access area of the file system, and use the cp command to copy it to your unixstuff directory.\n",
    "\n",
    "First, cd to your unixstuff directory.\n",
    "\n",
    "Example use of `cp` command:"
   ]
  },
  {
   "cell_type": "markdown",
   "id": "9345d991",
   "metadata": {},
   "source": []
  },
  {
   "cell_type": "code",
   "execution_count": 9,
   "id": "85c14d45",
   "metadata": {
    "scrolled": false
   },
   "outputs": [],
   "source": [
    "cp /home/SAMPLE/sample.txt  ."
   ]
  },
  {
   "cell_type": "markdown",
   "id": "c5ae7b98",
   "metadata": {},
   "source": [
    "The above command means copy the file sample.txt from /home/SAMPLE directory to the current directory, keeping the name the same. Don't forget the dot . at the end, in UNIX, the dot means the current directory.\n",
    "\n",
    "\n",
    "\n",
    "\n",
    "\n",
    "## mv (move)\n",
    "\n",
    "`mv` file1 file2 moves (or renames) file1 to file2\n",
    "\n",
    "To move a file from one place to another, use the mv command. This has the effect of moving rather than copying the file, so you end up with only one file rather than two.\n",
    "\n",
    "It can also be used to rename a file, by moving the file to the same directory, but giving it a different name.\n",
    "\n",
    "\n",
    "Example use of `mv` command:"
   ]
  },
  {
   "cell_type": "code",
   "execution_count": 21,
   "id": "9d382ef0",
   "metadata": {},
   "outputs": [
    {
     "name": "stdout",
     "output_type": "stream",
     "text": [
      "\u001b[34mApplications\u001b[m\u001b[m/ \u001b[34mDownloads\u001b[m\u001b[m/    \u001b[34mMusic\u001b[m\u001b[m/        \u001b[34mbackup\u001b[m\u001b[m/\n",
      "\u001b[34mDesktop\u001b[m\u001b[m/      \u001b[34mLibrary\u001b[m\u001b[m/      \u001b[34mPictures\u001b[m\u001b[m/     get-pip.py\n",
      "\u001b[34mDocuments\u001b[m\u001b[m/    \u001b[34mMovies\u001b[m\u001b[m/       \u001b[34mPublic\u001b[m\u001b[m/       sample.txt\n"
     ]
    }
   ],
   "source": [
    "ls"
   ]
  },
  {
   "cell_type": "code",
   "execution_count": 22,
   "id": "9d382ef0",
   "metadata": {},
   "outputs": [],
   "source": [
    "mv sample.txt backup/"
   ]
  },
  {
   "cell_type": "code",
   "execution_count": 23,
   "id": "5d381b1f",
   "metadata": {},
   "outputs": [
    {
     "name": "stdout",
     "output_type": "stream",
     "text": [
      "\u001b[34mApplications\u001b[m\u001b[m/ \u001b[34mDownloads\u001b[m\u001b[m/    \u001b[34mMusic\u001b[m\u001b[m/        \u001b[34mbackup\u001b[m\u001b[m/\n",
      "\u001b[34mDesktop\u001b[m\u001b[m/      \u001b[34mLibrary\u001b[m\u001b[m/      \u001b[34mPictures\u001b[m\u001b[m/     get-pip.py\n",
      "\u001b[34mDocuments\u001b[m\u001b[m/    \u001b[34mMovies\u001b[m\u001b[m/       \u001b[34mPublic\u001b[m\u001b[m/\n"
     ]
    }
   ],
   "source": [
    "ls"
   ]
  },
  {
   "cell_type": "markdown",
   "id": "9e06c9ad",
   "metadata": {},
   "source": [
    "File is in backup/ directory. "
   ]
  },
  {
   "cell_type": "code",
   "execution_count": 24,
   "id": "f3fefcba",
   "metadata": {},
   "outputs": [
    {
     "name": "stdout",
     "output_type": "stream",
     "text": [
      "sample.txt\n"
     ]
    }
   ],
   "source": [
    "ls backup/"
   ]
  },
  {
   "cell_type": "markdown",
   "id": "a13d80a2",
   "metadata": {},
   "source": [
    "## rm (remove), rmdir (remove directory)\n",
    "\n",
    "To delete (remove) a file, use the rm command. You can use the rmdir command to remove a directory (make sure it is empty first). Try to remove the backups directory. You will not be able to since UNIX will not let you remove a non-empty directory.\n"
   ]
  },
  {
   "cell_type": "code",
   "execution_count": 27,
   "id": "f4aabab1",
   "metadata": {},
   "outputs": [
    {
     "name": "stdout",
     "output_type": "stream",
     "text": [
      "/Users/lab/backup\n"
     ]
    }
   ],
   "source": [
    "cd backup"
   ]
  },
  {
   "cell_type": "markdown",
   "id": "d24092e1",
   "metadata": {},
   "source": [
    "\n",
    "Deleting (removing) sample.txt file."
   ]
  },
  {
   "cell_type": "code",
   "execution_count": 29,
   "id": "9d382ef0",
   "metadata": {},
   "outputs": [],
   "source": [
    "rm sample.txt"
   ]
  },
  {
   "cell_type": "markdown",
   "id": "454e763b",
   "metadata": {},
   "source": [
    "##  cat (concatenate)\n",
    "\n",
    " Displaying the contents of a file on the screen.\n",
    " If the file is longer than than the size of the window, so it scrolls down making it unreadable.\n"
   ]
  },
  {
   "cell_type": "code",
   "execution_count": null,
   "id": "9d382ef0",
   "metadata": {},
   "outputs": [],
   "source": [
    "cat sample.txt"
   ]
  },
  {
   "cell_type": "markdown",
   "id": "454e763b",
   "metadata": {},
   "source": [
    "##  less\n",
    "\n",
    "The command less writes the contents of a file onto the screen a page at a time."
   ]
  },
  {
   "cell_type": "code",
   "execution_count": null,
   "id": "edbbd3e7",
   "metadata": {},
   "outputs": [],
   "source": [
    "less sample.txt"
   ]
  },
  {
   "cell_type": "markdown",
   "id": "454e763b",
   "metadata": {},
   "source": [
    "Press the [space-bar] if you want to see another page, or [q] if you want to quit reading. Less is used in preference to cat for long files.\n",
    "\n"
   ]
  },
  {
   "cell_type": "markdown",
   "id": "d24092e1",
   "metadata": {},
   "source": [
    "## head\n",
    "The head command writes the first ten lines of a file to the screen.\n",
    "\n"
   ]
  },
  {
   "cell_type": "code",
   "execution_count": null,
   "id": "edbbd3e7",
   "metadata": {},
   "outputs": [],
   "source": [
    "head sample.txt"
   ]
  },
  {
   "cell_type": "markdown",
   "id": "454e763b",
   "metadata": {},
   "source": [
    "##  tail\n",
    "\n",
    "The tail command writes the last ten lines of a file to the screen.\n"
   ]
  },
  {
   "cell_type": "code",
   "execution_count": null,
   "id": "edbbd3e7",
   "metadata": {},
   "outputs": [],
   "source": [
    "tail sample.txt"
   ]
  },
  {
   "cell_type": "markdown",
   "id": "454e763b",
   "metadata": {},
   "source": [
    "##  grep ( searches files for specified words or patterns )\n",
    "\n",
    "`grep` is one of many standard UNIX utilities. It searches files for specified words or patterns.\n",
    "\n",
    "As you can see, grep has printed out each line containg the word science.\n",
    "\n",
    "The grep command is case sensitive; it distinguishes between `Science` and `science`.\n",
    "\n",
    "\n",
    "To search for word Science in science.txt file type:\n"
   ]
  },
  {
   "cell_type": "markdown",
   "id": "454e763b",
   "metadata": {},
   "source": [
    "##  wc (word count)\n",
    "\n",
    "\n",
    "wc command (short for word count). \n",
    "\n",
    "To do a word count on file, type  wc -w sample.txt\n"
   ]
  },
  {
   "cell_type": "code",
   "execution_count": null,
   "id": "edbbd3e7",
   "metadata": {},
   "outputs": [],
   "source": [
    "wc -w sample.txt"
   ]
  }
 ],
 "metadata": {
  "kernelspec": {
   "display_name": "Python 3.10.6 64-bit",
   "language": "python",
   "name": "python3"
  },
  "language_info": {
   "codemirror_mode": {
    "name": "ipython",
    "version": 3
   },
   "file_extension": ".py",
   "mimetype": "text/x-python",
   "name": "python",
   "nbconvert_exporter": "python",
   "pygments_lexer": "ipython3",
   "version": "3.10.6"
  },
  "vscode": {
   "interpreter": {
    "hash": "31f2aee4e71d21fbe5cf8b01ff0e069b9275f58929596ceb00d14d90e3e16cd6"
   }
  },
  "widgets": {
   "application/vnd.jupyter.widget-state+json": {
    "state": {},
    "version_major": 2,
    "version_minor": 0
   }
  }
 },
 "nbformat": 4,
 "nbformat_minor": 5
}
