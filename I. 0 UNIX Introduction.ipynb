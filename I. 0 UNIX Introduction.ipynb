{
 "cells": [
  {
   "cell_type": "markdown",
   "id": "ce08d8f6",
   "metadata": {},
   "source": [
    "# An Introduction to Bioinformatics and its Applications\n",
    "## Lesson 1: An Introduction to the Unix"
   ]
  },
  {
   "cell_type": "markdown",
   "id": "70661946",
   "metadata": {},
   "source": [
    "Basic commands that we will use often are:\n",
    "- `ls` - *(**l**i**s**t)* lists all files and directories of the current working directory\n",
    "- `pwd` - *(**p**rint **w**orking **d**irectory)* prints the current working directory path\n",
    "- `mkdir <name>` - *(**m**a**k**e **dir**ectory)* creates a new directory in the current working directory path\n",
    "- `cd <directory-name>` - *(**c**hange **d**irectory)* changes current working directory to `<directory-name>`\n",
    "- `cd ..` - changes current working directory to the parent directory\n",
    "\n",
    "\n",
    "\n",
    "ls (list)\n",
    "When you login to the Unix system, your current working directory is your home directory. Your home directory has the same name as your user-name, for example, **userlogin** , and it is where your personal files and subdirectories are saved.\n",
    "\n",
    "To check what is in your home directory, type\n",
    "the `ls` command ( lowercase L and lowercase S ) lists the contents of your current working directory.\n",
    "\n",
    "In UNIX, (.) means the current directory, (..) means the parent of the current directory.\n",
    "\n",
    "\n",
    "\n",
    "\n",
    "\n",
    "\n",
    "Example use of `ls` command:"
   ]
  },
  {
   "cell_type": "code",
   "execution_count": 9,
   "id": "85c14d45",
   "metadata": {
    "scrolled": false
   },
   "outputs": [],
   "source": [
    "ls"
   ]
  },
  {
   "cell_type": "markdown",
   "id": "c5ae7b98",
   "metadata": {},
   "source": [
    "Example use of `pwd` command:"
   ]
  },
  {
   "cell_type": "code",
   "execution_count": 10,
   "id": "9d382ef0",
   "metadata": {},
   "outputs": [
    {
     "data": {
      "text/plain": [
       "'/Users/lab/Desktop/new_dir'"
      ]
     },
     "execution_count": 10,
     "metadata": {},
     "output_type": "execute_result"
    }
   ],
   "source": [
    "pwd"
   ]
  },
  {
   "cell_type": "markdown",
   "id": "ad80faa4",
   "metadata": {},
   "source": [
    "Example use of `mkdir` command:"
   ]
  },
  {
   "cell_type": "code",
   "execution_count": 11,
   "id": "9d382ef0",
   "metadata": {},
   "outputs": [],
   "source": [
    "mkdir new_dir"
   ]
  },
  {
   "cell_type": "code",
   "execution_count": 12,
   "id": "5d381b1f",
   "metadata": {},
   "outputs": [
    {
     "name": "stdout",
     "output_type": "stream",
     "text": [
      "\u001b[34mnew_dir\u001b[m\u001b[m/\n"
     ]
    }
   ],
   "source": [
    "ls"
   ]
  },
  {
   "cell_type": "markdown",
   "id": "9e06c9ad",
   "metadata": {},
   "source": [
    "Example use of `cd <directory-name>` command:"
   ]
  },
  {
   "cell_type": "code",
   "execution_count": 13,
   "id": "f3fefcba",
   "metadata": {},
   "outputs": [
    {
     "name": "stdout",
     "output_type": "stream",
     "text": [
      "/Users/lab/Desktop/new_dir/new_dir\n"
     ]
    }
   ],
   "source": [
    "cd new_dir"
   ]
  },
  {
   "cell_type": "markdown",
   "id": "a13d80a2",
   "metadata": {},
   "source": [
    "Example use of `cd ..` command:"
   ]
  },
  {
   "cell_type": "code",
   "execution_count": 14,
   "id": "f4aabab1",
   "metadata": {},
   "outputs": [
    {
     "name": "stdout",
     "output_type": "stream",
     "text": [
      "/Users/lab/Desktop/new_dir\n"
     ]
    }
   ],
   "source": [
    "cd .."
   ]
  },
  {
   "cell_type": "markdown",
   "id": "454e763b",
   "metadata": {},
   "source": [
    "Command `cd .` means stay where you are.\n",
    "\n",
    "Example use of `cd .` command:"
   ]
  },
  {
   "cell_type": "code",
   "execution_count": 15,
   "id": "edbbd3e7",
   "metadata": {},
   "outputs": [
    {
     "name": "stdout",
     "output_type": "stream",
     "text": [
      "/Users/lab/Desktop/new_dir\n"
     ]
    }
   ],
   "source": [
    "cd ."
   ]
  },
  {
   "cell_type": "markdown",
   "id": "d24092e1",
   "metadata": {},
   "source": [
    "\n",
    "Your home directories can also be referred to by the tilde ~ character."
   ]
  }
 ],
 "metadata": {
  "kernelspec": {
   "display_name": "Python 3.10.6 64-bit",
   "language": "python",
   "name": "python3"
  },
  "language_info": {
   "codemirror_mode": {
    "name": "ipython",
    "version": 3
   },
   "file_extension": ".py",
   "mimetype": "text/x-python",
   "name": "python",
   "nbconvert_exporter": "python",
   "pygments_lexer": "ipython3",
   "version": "3.10.6"
  },
  "vscode": {
   "interpreter": {
    "hash": "31f2aee4e71d21fbe5cf8b01ff0e069b9275f58929596ceb00d14d90e3e16cd6"
   }
  },
  "widgets": {
   "application/vnd.jupyter.widget-state+json": {
    "state": {},
    "version_major": 2,
    "version_minor": 0
   }
  }
 },
 "nbformat": 4,
 "nbformat_minor": 5
}
