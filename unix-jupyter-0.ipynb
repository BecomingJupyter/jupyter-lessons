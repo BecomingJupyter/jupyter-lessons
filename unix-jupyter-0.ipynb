{
 "cells": [
  {
   "cell_type": "markdown",
   "id": "a2035b4d",
   "metadata": {},
   "source": [
    "# An Introduction to Bioinformatics and its Applications\n",
    "## Lesson 0: Setting up environment\n",
    "\n",
    "### 1. Setting up Python\n",
    "\n",
    "- download the latest version of Python from the official website and install it\n",
    "`https://www.python.org/downloads/`\n",
    "\n",
    "- after installing Python, open **Terminal** app and run one of these commands, to make sure that Python's standard package manager is up-to-date\n",
    ">### On Windows\n",
    ">python -m pip install -U pip setuptools\n",
    ">### On OS X or Linux\n",
    ">pip install -U pip setuptools\n",
    "\n",
    "### 2. Setting up Jupyter\n",
    "- open **Terminal** app and run these commands:\n",
    "> pip install notebook\n",
    "\n",
    "> pip install bash_kernel\n",
    "\n",
    "> python -m bash_kernel.install\n",
    "\n",
    "- open **Jupyter Notebook** by running this command in your Terminal:\n",
    "> jupyter notebook"
   ]
  }
 ],
 "metadata": {
  "kernelspec": {
   "display_name": "Python 2.7.16 64-bit",
   "language": "python",
   "name": "python3"
  },
  "language_info": {
   "codemirror_mode": "shell",
   "file_extension": ".sh",
   "mimetype": "text/x-sh",
   "name": "python",
   "version": "2.7.16"
  },
  "vscode": {
   "interpreter": {
    "hash": "767d51c1340bd893661ea55ea3124f6de3c7a262a8b4abca0554b478b1e2ff90"
   }
  }
 },
 "nbformat": 4,
 "nbformat_minor": 5
}
