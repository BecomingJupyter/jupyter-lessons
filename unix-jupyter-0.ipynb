{
 "cells": [
  {
   "cell_type": "markdown",
   "id": "a2035b4d",
   "metadata": {},
   "source": [
    "# An Introduction to Bioinformatics and its Applications\n",
    "## Lesson 0: Setting up environment\n",
    "\n",
    "### 1. Setting up Python\n",
    "\n",
    "- download the latest version of Python from the official website and install it\n",
    "`https://www.python.org/downloads/`\n",
    "\n",
    "- after installing Python, open **Terminal** app and run one of these commands, to make sure that Python's standard package manager is up-to-date\n",
    ">### On Windows\n",
    ">python -m pip install -U pip setuptools\n",
    ">### On OS X or Linux\n",
    ">pip install -U pip setuptools\n",
    "\n",
    "### 2. Setting up Jupyter\n",
    "- open **Terminal** app and run these commands:\n",
    "> pip install notebook\n",
    "\n",
    "> pip install bash_kernel\n",
    "\n",
    "> python -m bash_kernel.install\n",
    "\n",
    "- open **Jupyter Notebook** by running this command in your Terminal:\n",
    "> jupyter notebook"
   ]
  }
 ],
 "metadata": {
  "kernelspec": {
   "display_name": "Python 3.10.6 64-bit",
   "language": "python",
   "name": "python3"
  },
  "language_info": {
   "codemirror_mode": "shell",
   "file_extension": ".sh",
   "mimetype": "text/x-sh",
   "name": "python",
   "version": "3.10.6"
  },
  "vscode": {
   "interpreter": {
    "hash": "31f2aee4e71d21fbe5cf8b01ff0e069b9275f58929596ceb00d14d90e3e16cd6"
   }
  }
 },
 "nbformat": 4,
 "nbformat_minor": 5
}
