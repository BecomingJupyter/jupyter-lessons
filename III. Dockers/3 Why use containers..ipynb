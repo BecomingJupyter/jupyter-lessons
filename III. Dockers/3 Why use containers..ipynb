{
 "cells": [
  {
   "cell_type": "markdown",
   "id": "ce08d8f6",
   "metadata": {},
   "source": [
    "## Lesson 3: Why use containers.\n",
    "\n",
    "\n",
    "You can easily share containers while you work, and be sure that everyone you share with gets the same container that works in the same way.\n",
    "\n",
    "Docker provides tooling and a platform to manage the lifecycle of your containers:\n",
    "\n",
    "Develop your application and its supporting components using containers.\n",
    "The container becomes the unit for distributing and testing your application.\n",
    "When you’re ready, deploy your application into your production environment, as a container or an orchestrated service. This works the same whether your production environment is a local data center, a cloud provider, or a hybrid of the two.\n",
    "\n",
    "\n",
    "\n",
    "Docker architecture\n",
    "Docker uses a client-server architecture. The Docker client talks to the Docker daemon, which does the heavy lifting of building, running, and distributing your Docker containers. The Docker client and daemon can run on the same system, or you can connect a Docker client to a remote Docker daemon. The Docker client and daemon communicate using a REST API, over UNIX sockets or a network interface. Another Docker client is Docker Compose, that lets you work with applications consisting of a set of containers.\n",
    "\n",
    "Docker Architecture Diagram\n",
    "\n",
    "![MarineGEO circle logo](../images/docker_architecture.png \"MarineGEO logo\")\n",
    "\n",
    "\n",
    "<img src=\"/Users/lab/Downloads/docker_architecture.png\" alt=\"Docker Arch Diagram\" style=\"height: 100px; width:100px;\"/>\n",
    "\n",
    "The Docker daemon\n",
    "The Docker daemon (dockerd) listens for Docker API requests and manages Docker objects such as images, containers, networks, and volumes. A daemon can also communicate with other daemons to manage Docker services.\n",
    "\n",
    "The Docker client\n",
    "The Docker client (docker) is the primary way that many Docker users interact with Docker. When you use commands such as docker run, the client sends these commands to dockerd, which carries them out. The docker command uses the Docker API. The Docker client can communicate with more than one daemon.\n",
    "\n",
    "Docker Desktop\n",
    "Docker Desktop is an easy-to-install application for your Mac, Windows or Linux environment that enables you to build and share containerized applications and microservices. Docker Desktop includes the Docker daemon (dockerd), the Docker client (docker), Docker Compose, Docker Content Trust, Kubernetes, and Credential Helper. For more information, see Docker Desktop.\n",
    "\n",
    "Docker registries\n",
    "A Docker registry stores Docker images. Docker Hub is a public registry that anyone can use, and Docker is configured to look for images on Docker Hub by default. You can even run your own private registry.\n",
    "\n",
    "When you use the docker pull or docker run commands, the required images are pulled from your configured registry. When you use the docker push command, your image is pushed to your configured registry.\n",
    "\n",
    "\n"
   ]
  }
 ],
 "metadata": {
  "kernelspec": {
   "display_name": "Python 3.10.6 64-bit",
   "language": "python",
   "name": "python3"
  },
  "language_info": {
   "codemirror_mode": {
    "name": "ipython",
    "version": 3
   },
   "file_extension": ".py",
   "mimetype": "text/x-python",
   "name": "python",
   "nbconvert_exporter": "python",
   "pygments_lexer": "ipython3",
   "version": "3.10.6"
  },
  "vscode": {
   "interpreter": {
    "hash": "31f2aee4e71d21fbe5cf8b01ff0e069b9275f58929596ceb00d14d90e3e16cd6"
   }
  },
  "widgets": {
   "application/vnd.jupyter.widget-state+json": {
    "state": {},
    "version_major": 2,
    "version_minor": 0
   }
  }
 },
 "nbformat": 4,
 "nbformat_minor": 5
}
