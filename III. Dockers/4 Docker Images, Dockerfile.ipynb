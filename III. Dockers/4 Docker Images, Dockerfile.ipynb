{
 "cells": [
  {
   "cell_type": "markdown",
   "id": "ce08d8f6",
   "metadata": {},
   "source": [
    "## Lesson 4: Docker Images, Dockerfile\n",
    "\n",
    "\n",
    "Docker objects\n",
    "When you use Docker, you are creating and using images, containers, networks, volumes, plugins, and other objects. This section is a brief overview of some of those objects.\n",
    "\n",
    "Images\n",
    "An image is a read-only template with instructions for creating a Docker container. Often, an image is based on another image, with some additional customization. For example, you may build an image which is based on the ubuntu image, but installs the Apache web server and your application, as well as the configuration details needed to make your application run.\n",
    "\n",
    "You might create your own images or you might only use those created by others and published in a registry. To build your own image, you create a Dockerfile with a simple syntax for defining the steps needed to create the image and run it. Each instruction in a Dockerfile creates a layer in the image. When you change the Dockerfile and rebuild the image, only those layers which have changed are rebuilt. This is part of what makes images so lightweight, small, and fast, when compared to other virtualization technologies.\n",
    "\n",
    "Containers\n",
    "A container is a runnable instance of an image. You can create, start, stop, move, or delete a container using the Docker API or CLI. You can connect a container to one or more networks, attach storage to it, or even create a new image based on its current state.\n",
    "\n",
    "By default, a container is relatively well isolated from other containers and its host machine. You can control how isolated a container’s network, storage, or other underlying subsystems are from other containers or from the host machine.\n",
    "\n",
    "A container is defined by its image as well as any configuration options you provide to it when you create or start it. When a container is removed, any changes to its state that are not stored in persistent storage disappear.\n",
    "\n",
    "## Example docker run command\n",
    "The following command runs an ubuntu container, attaches interactively to your local command-line session, and runs /bin/bash.\n",
    "\n",
    " `$ docker run -i -t ubuntu /bin/bash`\n",
    "\n",
    "\n",
    "When you run this command, the following happens (assuming you are using the default registry configuration):\n",
    "\n",
    "If you do not have the ubuntu image locally, Docker pulls it from your configured registry, as though you had run docker pull ubuntu manually.\n",
    "\n",
    "Docker creates a new container, as though you had run a docker container create command manually.\n",
    "\n",
    "Docker allocates a read-write filesystem to the container, as its final layer. This allows a running container to create or modify files and directories in its local filesystem.\n",
    "\n",
    "Docker creates a network interface to connect the container to the default network, since you did not specify any networking options. This includes assigning an IP address to the container. By default, containers can connect to external networks using the host machine’s network connection.\n",
    "\n",
    "Docker starts the container and executes /bin/bash. Because the container is running interactively and attached to your terminal (due to the -i and -t flags), you can provide input using your keyboard while the output is logged to your terminal.\n",
    "\n",
    "When you type exit to terminate the /bin/bash command, the container stops but is not removed. You can start it again or remove it.\n"
   ]
  }
 ],
 "metadata": {
  "kernelspec": {
   "display_name": "Python 3.10.6 64-bit",
   "language": "python",
   "name": "python3"
  },
  "language_info": {
   "codemirror_mode": {
    "name": "ipython",
    "version": 3
   },
   "file_extension": ".py",
   "mimetype": "text/x-python",
   "name": "python",
   "nbconvert_exporter": "python",
   "pygments_lexer": "ipython3",
   "version": "3.10.6"
  },
  "vscode": {
   "interpreter": {
    "hash": "31f2aee4e71d21fbe5cf8b01ff0e069b9275f58929596ceb00d14d90e3e16cd6"
   }
  },
  "widgets": {
   "application/vnd.jupyter.widget-state+json": {
    "state": {},
    "version_major": 2,
    "version_minor": 0
   }
  }
 },
 "nbformat": 4,
 "nbformat_minor": 5
}
