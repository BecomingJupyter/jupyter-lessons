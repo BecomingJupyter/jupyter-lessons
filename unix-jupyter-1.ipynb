{
 "cells": [
  {
   "cell_type": "markdown",
   "id": "ce08d8f6",
   "metadata": {},
   "source": [
    "# An Introduction to Bioinformatics and its Applications\n",
    "## Lesson 1: An Introduction to the Unix"
   ]
  },
  {
   "cell_type": "markdown",
   "id": "70661946",
   "metadata": {},
   "source": [
    "Basic commands that we will use often are:\n",
    "- `ls` - *(**l**i**s**t)* lists all files and directories of the current working directory\n",
    "- `pwd` - *(**p**rint **w**orking **d**irectory)* prints the current working directory path\n",
    "- `mkdir <name>` - *(**m**a**k**e **dir**ectory)* creates a new directory in the current working directory path\n",
    "- `cd <directory-name>` - *(**c**hange **d**irectory)* changes current working directory to `<directory-name>`\n",
    "- `cd ..` - changes current working directory to the parent directory\n",
    "\n",
    "Example use of `ls` command:"
   ]
  },
  {
   "cell_type": "code",
   "execution_count": 4,
   "id": "85c14d45",
   "metadata": {
    "scrolled": false
   },
   "outputs": [
    {
     "name": "stdout",
     "output_type": "stream",
     "text": [
      "$RECYCLE.BIN\t\tlinux-jupyter-1.ipynb\n"
     ]
    }
   ],
   "source": [
    "ls"
   ]
  },
  {
   "cell_type": "markdown",
   "id": "c5ae7b98",
   "metadata": {},
   "source": [
    "Example use of `pwd` command:"
   ]
  },
  {
   "cell_type": "code",
   "execution_count": 12,
   "id": "9d382ef0",
   "metadata": {},
   "outputs": [
    {
     "name": "stdout",
     "output_type": "stream",
     "text": [
      "/Users/maciej/Desktop\n"
     ]
    }
   ],
   "source": [
    "pwd"
   ]
  },
  {
   "cell_type": "markdown",
   "id": "ad80faa4",
   "metadata": {},
   "source": [
    "Example use of `mkdir` command:"
   ]
  },
  {
   "cell_type": "code",
   "execution_count": 3,
   "id": "9bacf017",
   "metadata": {},
   "outputs": [
    {
     "name": "stdout",
     "output_type": "stream",
     "text": [
      "$RECYCLE.BIN\t\tlinux-jupyter-1.ipynb\tnew_dir\n"
     ]
    }
   ],
   "source": [
    "mkdir new_dir\n",
    "ls"
   ]
  },
  {
   "cell_type": "markdown",
   "id": "9e06c9ad",
   "metadata": {},
   "source": [
    "Example use of `cd <directory-name>` command:"
   ]
  },
  {
   "cell_type": "code",
   "execution_count": 13,
   "id": "f3fefcba",
   "metadata": {},
   "outputs": [
    {
     "name": "stdout",
     "output_type": "stream",
     "text": [
      "/Users/maciej/Desktop/new_dir\n"
     ]
    }
   ],
   "source": [
    "cd new_dir\n",
    "pwd"
   ]
  },
  {
   "cell_type": "markdown",
   "id": "a13d80a2",
   "metadata": {},
   "source": [
    "Example use of `cd ..` command:"
   ]
  },
  {
   "cell_type": "code",
   "execution_count": 10,
   "id": "f4aabab1",
   "metadata": {},
   "outputs": [
    {
     "name": "stdout",
     "output_type": "stream",
     "text": [
      "/Users/maciej/Desktop\n"
     ]
    }
   ],
   "source": [
    "cd ..\n",
    "pwd"
   ]
  }
 ],
 "metadata": {
  "kernelspec": {
   "display_name": "Bash",
   "language": "bash",
   "name": "bash"
  },
  "language_info": {
   "codemirror_mode": "shell",
   "file_extension": ".sh",
   "mimetype": "text/x-sh",
   "name": "bash"
  },
  "widgets": {
   "application/vnd.jupyter.widget-state+json": {
    "state": {},
    "version_major": 2,
    "version_minor": 0
   }
  }
 },
 "nbformat": 4,
 "nbformat_minor": 5
}
